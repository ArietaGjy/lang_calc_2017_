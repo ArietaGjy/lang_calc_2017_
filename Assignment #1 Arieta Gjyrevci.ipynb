{
 "cells": [
  {
   "cell_type": "code",
   "execution_count": 33,
   "metadata": {
    "collapsed": true
   },
   "outputs": [],
   "source": [
    "%matplotlib inline\n",
    "import matplotlib.pyplot as plt\n"
   ]
  },
  {
   "cell_type": "markdown",
   "metadata": {},
   "source": [
    "#### Assignment #1 Arieta Gjyrevci"
   ]
  },
  {
   "cell_type": "code",
   "execution_count": 18,
   "metadata": {},
   "outputs": [],
   "source": [
    "a = [3]\n",
    "\n",
    "for i in range(7):\n",
    "    next = a[i] *0.5\n",
    "    a.append (next)"
   ]
  },
  {
   "cell_type": "code",
   "execution_count": 19,
   "metadata": {},
   "outputs": [
    {
     "data": {
      "text/plain": [
       "[3, 1.5, 0.75, 0.375, 0.1875, 0.09375, 0.046875, 0.0234375]"
      ]
     },
     "execution_count": 19,
     "metadata": {},
     "output_type": "execute_result"
    }
   ],
   "source": [
    "a"
   ]
  },
  {
   "cell_type": "code",
   "execution_count": 34,
   "metadata": {},
   "outputs": [
    {
     "data": {
      "text/plain": [
       "[<matplotlib.lines.Line2D at 0x10ed4c438>]"
      ]
     },
     "execution_count": 34,
     "metadata": {},
     "output_type": "execute_result"
    },
    {
     "data": {
      "image/png": "[encoded data removed]",
      "text/plain": [
       "<matplotlib.figure.Figure at 0x1057c7ef0>"
      ]
     },
     "metadata": {},
     "output_type": "display_data"
    }
   ],
   "source": [
    "plt.plot(a,'o')"
   ]
  },
  {
   "cell_type": "code",
   "execution_count": 20,
   "metadata": {},
   "outputs": [],
   "source": [
    "b = [0.5]\n",
    "\n",
    "for i in range(70):\n",
    "    next = b[i] +0.5**i\n",
    "    b.append (next)"
   ]
  },
  {
   "cell_type": "code",
   "execution_count": 21,
   "metadata": {
    "scrolled": false
   },
   "outputs": [
    {
     "data": {
      "text/plain": [
       "[0.5,\n",
       " 1.5,\n",
       " 2.0,\n",
       " 2.25,\n",
       " 2.375,\n",
       " 2.4375,\n",
       " 2.46875,\n",
       " 2.484375,\n",
       " 2.4921875,\n",
       " 2.49609375,\n",
       " 2.498046875,\n",
       " 2.4990234375,\n",
       " 2.49951171875,\n",
       " 2.499755859375,\n",
       " 2.4998779296875,\n",
       " 2.49993896484375,\n",
       " 2.499969482421875,\n",
       " 2.4999847412109375,\n",
       " 2.4999923706054688,\n",
       " 2.4999961853027344,\n",
       " 2.499998092651367,\n",
       " 2.4999990463256836,\n",
       " 2.499999523162842,\n",
       " 2.499999761581421,\n",
       " 2.4999998807907104,\n",
       " 2.4999999403953552,\n",
       " 2.4999999701976776,\n",
       " 2.499999985098839,\n",
       " 2.4999999925494194,\n",
       " 2.4999999962747097,\n",
       " 2.499999998137355,\n",
       " 2.4999999990686774,\n",
       " 2.4999999995343387,\n",
       " 2.4999999997671694,\n",
       " 2.4999999998835847,\n",
       " 2.4999999999417923,\n",
       " 2.499999999970896,\n",
       " 2.499999999985448,\n",
       " 2.499999999992724,\n",
       " 2.499999999996362,\n",
       " 2.499999999998181,\n",
       " 2.4999999999990905,\n",
       " 2.4999999999995453,\n",
       " 2.4999999999997726,\n",
       " 2.4999999999998863,\n",
       " 2.499999999999943,\n",
       " 2.4999999999999716,\n",
       " 2.499999999999986,\n",
       " 2.499999999999993,\n",
       " 2.4999999999999964,\n",
       " 2.4999999999999982,\n",
       " 2.499999999999999,\n",
       " 2.4999999999999996,\n",
       " 2.5,\n",
       " 2.5,\n",
       " 2.5,\n",
       " 2.5,\n",
       " 2.5,\n",
       " 2.5,\n",
       " 2.5,\n",
       " 2.5,\n",
       " 2.5,\n",
       " 2.5,\n",
       " 2.5,\n",
       " 2.5,\n",
       " 2.5,\n",
       " 2.5,\n",
       " 2.5,\n",
       " 2.5,\n",
       " 2.5,\n",
       " 2.5]"
      ]
     },
     "execution_count": 21,
     "metadata": {},
     "output_type": "execute_result"
    }
   ],
   "source": [
    "b"
   ]
  },
  {
   "cell_type": "code",
   "execution_count": 35,
   "metadata": {},
   "outputs": [
    {
     "data": {
      "text/plain": [
       "[<matplotlib.lines.Line2D at 0x10edb1048>]"
      ]
     },
     "execution_count": 35,
     "metadata": {},
     "output_type": "execute_result"
    },
    {
     "data": {
      "image/png": "[encoded data removed]",
      "text/plain": [
       "<matplotlib.figure.Figure at 0x10ed4cf28>"
      ]
     },
     "metadata": {},
     "output_type": "display_data"
    }
   ],
   "source": [
    "plt.plot(b,'o')"
   ]
  },
  {
   "cell_type": "code",
   "execution_count": 44,
   "metadata": {},
   "outputs": [],
   "source": [
    "x = [1.5]\n",
    "\n",
    "for i in range(10):\n",
    "    next = 0.5 * (x[i]+(1.4141414/x[i]))\n",
    "    x.append (next)"
   ]
  },
  {
   "cell_type": "code",
   "execution_count": 45,
   "metadata": {},
   "outputs": [
    {
     "data": {
      "text/plain": [
       "[1.5,\n",
       " 1.2213804666666668,\n",
       " 1.1896013255744788,\n",
       " 1.1891768498333857,\n",
       " 1.1891767740752448,\n",
       " 1.1891767740752424,\n",
       " 1.1891767740752424,\n",
       " 1.1891767740752424,\n",
       " 1.1891767740752424,\n",
       " 1.1891767740752424,\n",
       " 1.1891767740752424]"
      ]
     },
     "execution_count": 45,
     "metadata": {},
     "output_type": "execute_result"
    }
   ],
   "source": [
    "x"
   ]
  },
  {
   "cell_type": "code",
   "execution_count": 46,
   "metadata": {},
   "outputs": [
    {
     "data": {
      "text/plain": [
       "[<matplotlib.lines.Line2D at 0x10f0429e8>]"
      ]
     },
     "execution_count": 46,
     "metadata": {},
     "output_type": "execute_result"
    },
    {
     "data": {
      "image/png": "[encoded data removed]",
      "text/plain": [
       "<matplotlib.figure.Figure at 0x10edb1cc0>"
      ]
     },
     "metadata": {},
     "output_type": "display_data"
    }
   ],
   "source": [
    "plt.plot(x,'o')"
   ]
  },
  {
   "cell_type": "code",
   "execution_count": 47,
   "metadata": {
    "collapsed": true
   },
   "outputs": [],
   "source": [
    "x = [10]\n",
    "\n",
    "for i in range(10):\n",
    "    next = 0.5 * (x[i]+(1.4141414/x[i]))\n",
    "    x.append (next)\n",
    "    "
   ]
  },
  {
   "cell_type": "code",
   "execution_count": 48,
   "metadata": {},
   "outputs": [
    {
     "data": {
      "text/plain": [
       "[10,\n",
       " 5.07070707,\n",
       " 2.6747957647007192,\n",
       " 1.6017435603760288,\n",
       " 1.24230992140583,\n",
       " 1.190313016850338,\n",
       " 1.1891773163895856,\n",
       " 1.189176774075366,\n",
       " 1.1891767740752424,\n",
       " 1.1891767740752424,\n",
       " 1.1891767740752424]"
      ]
     },
     "execution_count": 48,
     "metadata": {},
     "output_type": "execute_result"
    }
   ],
   "source": [
    "x"
   ]
  },
  {
   "cell_type": "code",
   "execution_count": 49,
   "metadata": {},
   "outputs": [
    {
     "data": {
      "text/plain": [
       "[<matplotlib.lines.Line2D at 0x10f07cdd8>]"
      ]
     },
     "execution_count": 49,
     "metadata": {},
     "output_type": "execute_result"
    },
    {
     "data": {
      "image/png": "[encoded data removed]",
      "text/plain": [
       "<matplotlib.figure.Figure at 0x10f064470>"
      ]
     },
     "metadata": {},
     "output_type": "display_data"
    }
   ],
   "source": [
    "plt.plot(x,'o')"
   ]
  },
  {
   "cell_type": "markdown",
   "metadata": {},
   "source": [
    "the 2 graphs above are differnt one because the numbers are very different, for exampe the last graph the number on each side are much close than the previous graph. Also for the first 2 dots there is a major change, the first 2 dots in the previous graph have a large gap, where as the last graph has a smaller gap between the 2."
   ]
  },
  {
   "cell_type": "markdown",
   "metadata": {},
   "source": []
  }
 ],
 "metadata": {
  "kernelspec": {
   "display_name": "Python 3",
   "language": "python",
   "name": "python3"
  },
  "language_info": {
   "codemirror_mode": {
    "name": "ipython",
    "version": 3
   },
   "file_extension": ".py",
   "mimetype": "text/x-python",
   "name": "python",
   "nbconvert_exporter": "python",
   "pygments_lexer": "ipython3",
   "version": "3.6.1"
  }
 },
 "nbformat": 4,
 "nbformat_minor": 2
}
